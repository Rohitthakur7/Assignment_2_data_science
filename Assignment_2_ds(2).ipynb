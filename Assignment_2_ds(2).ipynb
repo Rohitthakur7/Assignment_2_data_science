{
 "cells": [
  {
   "cell_type": "markdown",
   "id": "e95f39e3",
   "metadata": {},
   "source": [
    " Question-1 -->. How do you comment code in Python? What are the different types of comments?\n",
    "Answer1--> comment is the part of code ,that are ignored by the interpreter during the execution of the program."
   ]
  },
  {
   "cell_type": "code",
   "execution_count": 7,
   "id": "df8b1a89",
   "metadata": {},
   "outputs": [
    {
     "data": {
      "text/plain": [
       "'third is docstring comment in python, provide a convenient way of associated documentation with \\n functions , classes , modules'"
      ]
     },
     "execution_count": 7,
     "metadata": {},
     "output_type": "execute_result"
    }
   ],
   "source": [
    "             #print(\"first comment\")\n",
    "    \n",
    "# first is ( single line comment using # symble in python\n",
    "#print(\"hello i am Rohit\")\n",
    "\n",
    "#              print(\"second comment\")\n",
    "\n",
    "\"\"\" second is multiple line comment \n",
    "this comment used for write any note/paragraph of code \"\"\"\n",
    "\n",
    "#                print(\"third comment\")\n",
    "\n",
    "'''third is docstring comment in python, provide a convenient way of associated documentation with \n",
    " functions , classes , modules'''\n"
   ]
  },
  {
   "cell_type": "markdown",
   "id": "197accc7",
   "metadata": {},
   "source": [
    " question-2--> What are variables in Python? How do you declare and assign values to variables?\n",
    " \n",
    " Answer--> A variable is a name that represents a value stored in the computer's memory.You can think of a variable as a container that holds a value.\n",
    " "
   ]
  },
  {
   "cell_type": "code",
   "execution_count": 8,
   "id": "5c37a56e",
   "metadata": {},
   "outputs": [
    {
     "name": "stdout",
     "output_type": "stream",
     "text": [
      "123\n"
     ]
    }
   ],
   "source": [
    "# how to declare and assign values to variable\n",
    "\n",
    "rohit=123\n",
    "#here rohit is the name of variable , and value is 123 \n",
    "\"\"\" it store in rohit(variable name) , first create a memort name is rohit and its then assign value to variable (rohit)\n",
    "\"\"\"\n",
    "# the we want to print the statment/display the operations...\n",
    "print(rohit)    # here print is keyword it is predefind and it works to display the statement.."
   ]
  },
  {
   "cell_type": "markdown",
   "id": "281ba670",
   "metadata": {},
   "source": [
    "question-3--> How do you convert one data type to another in Python?\n",
    "\n",
    "Answer--> it is simple to conver one data type to another "
   ]
  },
  {
   "cell_type": "code",
   "execution_count": 20,
   "id": "2d22f792",
   "metadata": {},
   "outputs": [
    {
     "name": "stdout",
     "output_type": "stream",
     "text": [
      "<class 'int'>\n",
      "<class 'float'>\n",
      "<class 'complex'>\n",
      "<class 'int'>\n",
      "<class 'str'>\n"
     ]
    }
   ],
   "source": [
    "# convert data types in python\n",
    "\"\"\"here some data types , ready for converting each other\n",
    "1-int\n",
    "2-float\n",
    "4-complex\n",
    "5-list\n",
    "\"\"\"\n",
    "a=123\n",
    "print(type(a))\n",
    "'''to convert'''\n",
    "print(type(float(a)))\n",
    "\n",
    "b=3+5j\n",
    "print(type(b))\n",
    "b=int()\n",
    "print(type(b))\n",
    "\n",
    "z = str(42) \n",
    "print(type(z))"
   ]
  },
  {
   "cell_type": "markdown",
   "id": "058d930a",
   "metadata": {},
   "source": [
    "question-4-->. Given a list my_list = [1, 2, 3, 4, 5], write the code to slice the list and obtain the sub-list [2, 3]."
   ]
  },
  {
   "cell_type": "code",
   "execution_count": 22,
   "id": "28bc26da",
   "metadata": {},
   "outputs": [
    {
     "name": "stdout",
     "output_type": "stream",
     "text": [
      "[2, 3]\n"
     ]
    }
   ],
   "source": [
    "# code start ...list len star from 0 .\n",
    "my_list=[1,2,3,4,5]\n",
    "print(my_list[1:3])"
   ]
  },
  {
   "cell_type": "markdown",
   "id": "73a6d255",
   "metadata": {},
   "source": [
    "question-5--> What is a complex number in mathematics, and how is it represented in Python.\n",
    "\n",
    "answer--> complex number is --> 3+4j"
   ]
  },
  {
   "cell_type": "code",
   "execution_count": 23,
   "id": "67dd3e75",
   "metadata": {},
   "outputs": [
    {
     "name": "stdout",
     "output_type": "stream",
     "text": [
      "(3+5j)\n",
      "<class 'complex'>\n"
     ]
    }
   ],
   "source": [
    "# start code ..\n",
    "a=3+5j\n",
    "print(a)\n",
    "print(type(a))"
   ]
  },
  {
   "cell_type": "markdown",
   "id": "3dee5bad",
   "metadata": {},
   "source": [
    "question-6-->  Given the string \"Hello, World!\", extract the substring \"World\"."
   ]
  },
  {
   "cell_type": "code",
   "execution_count": 30,
   "id": "d3fedcb8",
   "metadata": {},
   "outputs": [
    {
     "name": "stdout",
     "output_type": "stream",
     "text": [
      "World\n"
     ]
    }
   ],
   "source": [
    "rohit=\"Hello, World!\"\n",
    "print(rohit[7:12])"
   ]
  },
  {
   "cell_type": "markdown",
   "id": "a17a7932",
   "metadata": {},
   "source": [
    "question-7--> Create a variable named \"is_student\" and assign it a boolean value indicating whether you are\n",
    "currently a student or not."
   ]
  },
  {
   "cell_type": "code",
   "execution_count": 36,
   "id": "58c35d8c",
   "metadata": {},
   "outputs": [
    {
     "name": "stdout",
     "output_type": "stream",
     "text": [
      "you are currently a student\n"
     ]
    }
   ],
   "source": [
    "is_student=True\n",
    "if is_student==True:\n",
    "    print(\"you are currently a student\")\n",
    "else:\n",
    "    print(\"you are not currently a student\")\n",
    "    "
   ]
  },
  {
   "cell_type": "code",
   "execution_count": null,
   "id": "d6f0c45c",
   "metadata": {},
   "outputs": [],
   "source": []
  },
  {
   "cell_type": "code",
   "execution_count": null,
   "id": "9879721a",
   "metadata": {},
   "outputs": [],
   "source": []
  }
 ],
 "metadata": {
  "kernelspec": {
   "display_name": "Python 3 (ipykernel)",
   "language": "python",
   "name": "python3"
  },
  "language_info": {
   "codemirror_mode": {
    "name": "ipython",
    "version": 3
   },
   "file_extension": ".py",
   "mimetype": "text/x-python",
   "name": "python",
   "nbconvert_exporter": "python",
   "pygments_lexer": "ipython3",
   "version": "3.9.13"
  }
 },
 "nbformat": 4,
 "nbformat_minor": 5
}
